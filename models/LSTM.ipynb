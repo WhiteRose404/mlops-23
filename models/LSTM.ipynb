{
 "cells": [
  {
   "cell_type": "markdown",
   "id": "140d7e8b-8d57-4325-b967-5a45613841cf",
   "metadata": {},
   "source": [
    "## Building Linear model"
   ]
  },
  {
   "cell_type": "code",
   "execution_count": 18,
   "id": "39c095c0-44e0-41d6-8603-b5881cf8eede",
   "metadata": {},
   "outputs": [],
   "source": [
    "import scipy.stats as spy\n",
    "from sklearn.model_selection import train_test_split\n",
    "import numpy as np\n",
    "import pandas as pd\n",
    "import tensorflow as tf\n",
    "from sklearn.model_selection import train_test_split\n",
    "from sklearn.preprocessing import MinMaxScaler\n",
    "import matplotlib.pyplot as plt"
   ]
  },
  {
   "cell_type": "code",
   "execution_count": 19,
   "id": "e37a704c-6e85-46e4-8beb-9f3790aef316",
   "metadata": {},
   "outputs": [
    {
     "data": {
      "text/html": [
       "<div>\n",
       "<style scoped>\n",
       "    .dataframe tbody tr th:only-of-type {\n",
       "        vertical-align: middle;\n",
       "    }\n",
       "\n",
       "    .dataframe tbody tr th {\n",
       "        vertical-align: top;\n",
       "    }\n",
       "\n",
       "    .dataframe thead th {\n",
       "        text-align: right;\n",
       "    }\n",
       "</style>\n",
       "<table border=\"1\" class=\"dataframe\">\n",
       "  <thead>\n",
       "    <tr style=\"text-align: right;\">\n",
       "      <th></th>\n",
       "      <th>Datetime</th>\n",
       "      <th>Temperature</th>\n",
       "      <th>Humidity</th>\n",
       "      <th>WindSpeed</th>\n",
       "      <th>GeneralDiffuseFlows</th>\n",
       "      <th>PowerConsumption_Zone1</th>\n",
       "      <th>PowerConsumption_Zone2</th>\n",
       "      <th>PowerConsumption_Zone3</th>\n",
       "    </tr>\n",
       "  </thead>\n",
       "  <tbody>\n",
       "    <tr>\n",
       "      <th>0</th>\n",
       "      <td>0.0</td>\n",
       "      <td>6.559</td>\n",
       "      <td>73.8</td>\n",
       "      <td>0.083</td>\n",
       "      <td>0.051</td>\n",
       "      <td>34055.69620</td>\n",
       "      <td>16128.87538</td>\n",
       "      <td>20240.96386</td>\n",
       "    </tr>\n",
       "    <tr>\n",
       "      <th>1</th>\n",
       "      <td>10.0</td>\n",
       "      <td>6.414</td>\n",
       "      <td>74.5</td>\n",
       "      <td>0.083</td>\n",
       "      <td>0.070</td>\n",
       "      <td>29814.68354</td>\n",
       "      <td>19375.07599</td>\n",
       "      <td>20131.08434</td>\n",
       "    </tr>\n",
       "    <tr>\n",
       "      <th>2</th>\n",
       "      <td>20.0</td>\n",
       "      <td>6.313</td>\n",
       "      <td>74.5</td>\n",
       "      <td>0.080</td>\n",
       "      <td>0.062</td>\n",
       "      <td>29128.10127</td>\n",
       "      <td>19006.68693</td>\n",
       "      <td>19668.43373</td>\n",
       "    </tr>\n",
       "    <tr>\n",
       "      <th>3</th>\n",
       "      <td>30.0</td>\n",
       "      <td>6.121</td>\n",
       "      <td>75.0</td>\n",
       "      <td>0.083</td>\n",
       "      <td>0.091</td>\n",
       "      <td>28228.86076</td>\n",
       "      <td>18361.09422</td>\n",
       "      <td>18899.27711</td>\n",
       "    </tr>\n",
       "    <tr>\n",
       "      <th>4</th>\n",
       "      <td>40.0</td>\n",
       "      <td>5.921</td>\n",
       "      <td>75.7</td>\n",
       "      <td>0.081</td>\n",
       "      <td>0.048</td>\n",
       "      <td>27335.69620</td>\n",
       "      <td>17872.34043</td>\n",
       "      <td>18442.40964</td>\n",
       "    </tr>\n",
       "    <tr>\n",
       "      <th>...</th>\n",
       "      <td>...</td>\n",
       "      <td>...</td>\n",
       "      <td>...</td>\n",
       "      <td>...</td>\n",
       "      <td>...</td>\n",
       "      <td>...</td>\n",
       "      <td>...</td>\n",
       "      <td>...</td>\n",
       "    </tr>\n",
       "    <tr>\n",
       "      <th>52411</th>\n",
       "      <td>10.0</td>\n",
       "      <td>7.010</td>\n",
       "      <td>72.4</td>\n",
       "      <td>0.080</td>\n",
       "      <td>0.040</td>\n",
       "      <td>31160.45627</td>\n",
       "      <td>26857.31820</td>\n",
       "      <td>14780.31212</td>\n",
       "    </tr>\n",
       "    <tr>\n",
       "      <th>52412</th>\n",
       "      <td>20.0</td>\n",
       "      <td>6.947</td>\n",
       "      <td>72.6</td>\n",
       "      <td>0.082</td>\n",
       "      <td>0.051</td>\n",
       "      <td>30430.41825</td>\n",
       "      <td>26124.57809</td>\n",
       "      <td>14428.81152</td>\n",
       "    </tr>\n",
       "    <tr>\n",
       "      <th>52413</th>\n",
       "      <td>30.0</td>\n",
       "      <td>6.900</td>\n",
       "      <td>72.8</td>\n",
       "      <td>0.086</td>\n",
       "      <td>0.084</td>\n",
       "      <td>29590.87452</td>\n",
       "      <td>25277.69254</td>\n",
       "      <td>13806.48259</td>\n",
       "    </tr>\n",
       "    <tr>\n",
       "      <th>52414</th>\n",
       "      <td>40.0</td>\n",
       "      <td>6.758</td>\n",
       "      <td>73.0</td>\n",
       "      <td>0.080</td>\n",
       "      <td>0.066</td>\n",
       "      <td>28958.17490</td>\n",
       "      <td>24692.23688</td>\n",
       "      <td>13512.60504</td>\n",
       "    </tr>\n",
       "    <tr>\n",
       "      <th>52415</th>\n",
       "      <td>50.0</td>\n",
       "      <td>6.580</td>\n",
       "      <td>74.1</td>\n",
       "      <td>0.081</td>\n",
       "      <td>0.062</td>\n",
       "      <td>28349.80989</td>\n",
       "      <td>24055.23167</td>\n",
       "      <td>13345.49820</td>\n",
       "    </tr>\n",
       "  </tbody>\n",
       "</table>\n",
       "<p>52416 rows × 8 columns</p>\n",
       "</div>"
      ],
      "text/plain": [
       "       Datetime  Temperature  Humidity  WindSpeed  GeneralDiffuseFlows  \\\n",
       "0           0.0        6.559      73.8      0.083                0.051   \n",
       "1          10.0        6.414      74.5      0.083                0.070   \n",
       "2          20.0        6.313      74.5      0.080                0.062   \n",
       "3          30.0        6.121      75.0      0.083                0.091   \n",
       "4          40.0        5.921      75.7      0.081                0.048   \n",
       "...         ...          ...       ...        ...                  ...   \n",
       "52411      10.0        7.010      72.4      0.080                0.040   \n",
       "52412      20.0        6.947      72.6      0.082                0.051   \n",
       "52413      30.0        6.900      72.8      0.086                0.084   \n",
       "52414      40.0        6.758      73.0      0.080                0.066   \n",
       "52415      50.0        6.580      74.1      0.081                0.062   \n",
       "\n",
       "       PowerConsumption_Zone1  PowerConsumption_Zone2  PowerConsumption_Zone3  \n",
       "0                 34055.69620             16128.87538             20240.96386  \n",
       "1                 29814.68354             19375.07599             20131.08434  \n",
       "2                 29128.10127             19006.68693             19668.43373  \n",
       "3                 28228.86076             18361.09422             18899.27711  \n",
       "4                 27335.69620             17872.34043             18442.40964  \n",
       "...                       ...                     ...                     ...  \n",
       "52411             31160.45627             26857.31820             14780.31212  \n",
       "52412             30430.41825             26124.57809             14428.81152  \n",
       "52413             29590.87452             25277.69254             13806.48259  \n",
       "52414             28958.17490             24692.23688             13512.60504  \n",
       "52415             28349.80989             24055.23167             13345.49820  \n",
       "\n",
       "[52416 rows x 8 columns]"
      ]
     },
     "execution_count": 19,
     "metadata": {},
     "output_type": "execute_result"
    }
   ],
   "source": [
    "# Load your data into a pandas DataFrame\n",
    "df = pd.read_csv(\"../data/powerconsumption.csv\");\n",
    "df.drop([\"DiffuseFlows\"], axis=1, inplace=True)\n",
    "df.Datetime = pd.to_datetime(df.Datetime);\n",
    "reference_datetime = pd.to_datetime(\"01/01/2017 00:00\", format='%d/%m/%Y %H:%M')\n",
    "df.Datetime = ((df['Datetime'] - reference_datetime).dt.total_seconds() // 60) % 60\n",
    "df"
   ]
  },
  {
   "cell_type": "code",
   "execution_count": 20,
   "id": "37a37973-5828-4a46-ac7c-5c9a2e33dcdc",
   "metadata": {},
   "outputs": [],
   "source": [
    "# Define the number of time steps (days)\n",
    "time_steps = 6*24*7"
   ]
  },
  {
   "cell_type": "code",
   "execution_count": 21,
   "id": "93fd4fcc-ada7-41ec-84b7-4efec91f0799",
   "metadata": {},
   "outputs": [],
   "source": [
    "# Split the data into features (X) and target (y)\n",
    "features = [\"Datetime\", \"Temperature\", \"Humidity\", \"WindSpeed\", \"GeneralDiffuseFlows\"]\n",
    "target = ['PowerConsumption_Zone1']\n",
    "\n",
    "X = df[features]\n",
    "y = df[target]"
   ]
  },
  {
   "cell_type": "code",
   "execution_count": 22,
   "id": "c5822d97-a66f-4683-8132-51cc7ccad4c8",
   "metadata": {},
   "outputs": [],
   "source": [
    "# Normalize the features and target using Min-Max scaling\n",
    "scaler_X = MinMaxScaler()\n",
    "X_scaled = scaler_X.fit_transform(X)\n",
    "\n",
    "scaler_y = MinMaxScaler()\n",
    "y_scaled = scaler_y.fit_transform(y)"
   ]
  },
  {
   "cell_type": "code",
   "execution_count": 23,
   "id": "ef3ab33e-690a-4413-a3a3-d5ebd426fcb2",
   "metadata": {},
   "outputs": [],
   "source": [
    "# Create sequences for LSTM input\n",
    "X_sequences = []\n",
    "y_sequences = []"
   ]
  },
  {
   "cell_type": "code",
   "execution_count": 24,
   "id": "847bfea5-6779-4e04-8ade-3835d2960359",
   "metadata": {},
   "outputs": [],
   "source": [
    "for i in range(len(X_scaled) - time_steps + 1):\n",
    "    X_sequences.append(X_scaled[i:i+time_steps, :])\n",
    "    # Use the avg of the last consumption as target of the last 7 days\n",
    "    y_sequences.append(np.mean(y_scaled[i:i+time_steps, 0]))\n",
    "    # y_sequences.append(y_scaled[i+time_steps-1, 0])  # Use the last day's power consumption as target\n",
    "\n",
    "X_sequences = np.array(X_sequences)\n",
    "y_sequences = np.array(y_sequences)"
   ]
  },
  {
   "cell_type": "code",
   "execution_count": null,
   "id": "a0b4fbf3-5a67-4b39-ac48-c7f8666f7cd7",
   "metadata": {},
   "outputs": [],
   "source": []
  },
  {
   "cell_type": "code",
   "execution_count": 25,
   "id": "5783fb2d-9fa4-4563-9b95-a02a91fc9a98",
   "metadata": {},
   "outputs": [],
   "source": [
    "# Split the data into training and testing sets\n",
    "X_train, X_test, y_train, y_test = train_test_split(X_sequences, y_sequences, test_size=0.2, random_state=42)"
   ]
  },
  {
   "cell_type": "code",
   "execution_count": 26,
   "id": "fe714705-be68-4f61-b1f3-054e6b668630",
   "metadata": {},
   "outputs": [],
   "source": [
    "# Build the LSTM model\n",
    "model = tf.keras.Sequential([\n",
    "    tf.keras.layers.LSTM(16, activation='tanh', input_shape=(time_steps, len(features))),\n",
    "    tf.keras.layers.Dense(1, activation='linear')\n",
    "])"
   ]
  },
  {
   "cell_type": "code",
   "execution_count": 27,
   "id": "a0c6b400-8462-4f70-8ecb-ffb3ab6542cd",
   "metadata": {},
   "outputs": [],
   "source": [
    "# Compile the model\n",
    "model.compile(optimizer='adam', loss='mean_squared_error')"
   ]
  },
  {
   "cell_type": "code",
   "execution_count": 28,
   "id": "bcc5cd80-e696-42bc-8dd8-ea64e75f1e2a",
   "metadata": {},
   "outputs": [
    {
     "name": "stderr",
     "output_type": "stream",
     "text": [
      "2023-08-29 18:03:44.250987: W tensorflow/core/framework/cpu_allocator_impl.cc:82] Allocation of 829120320 exceeds 10% of free system memory.\n"
     ]
    },
    {
     "name": "stdout",
     "output_type": "stream",
     "text": [
      "Epoch 1/5\n",
      "1286/1286 [==============================] - ETA: 0s - loss: 0.0034"
     ]
    },
    {
     "name": "stderr",
     "output_type": "stream",
     "text": [
      "2023-08-29 18:06:59.462587: W tensorflow/core/framework/cpu_allocator_impl.cc:82] Allocation of 207285120 exceeds 10% of free system memory.\n"
     ]
    },
    {
     "name": "stdout",
     "output_type": "stream",
     "text": [
      "1286/1286 [==============================] - 206s 158ms/step - loss: 0.0034 - val_loss: 0.0017\n",
      "Epoch 2/5\n",
      "1286/1286 [==============================] - 202s 157ms/step - loss: 0.0016 - val_loss: 0.0015\n",
      "Epoch 3/5\n",
      "1286/1286 [==============================] - 203s 158ms/step - loss: 0.0015 - val_loss: 0.0012\n",
      "Epoch 4/5\n",
      "1286/1286 [==============================] - 203s 158ms/step - loss: 0.0014 - val_loss: 0.0014\n",
      "Epoch 5/5\n",
      "1286/1286 [==============================] - 203s 158ms/step - loss: 0.0015 - val_loss: 0.0018\n"
     ]
    },
    {
     "data": {
      "text/plain": [
       "<keras.callbacks.History at 0x7f81cf955fc0>"
      ]
     },
     "execution_count": 28,
     "metadata": {},
     "output_type": "execute_result"
    }
   ],
   "source": [
    "# Train the model\n",
    "model.fit(X_train, y_train, epochs=5, batch_size=32, validation_data=(X_test, y_test))"
   ]
  },
  {
   "cell_type": "code",
   "execution_count": 29,
   "id": "de574d1c-233d-4e0e-bdc9-b6a6dca68d15",
   "metadata": {},
   "outputs": [
    {
     "name": "stdout",
     "output_type": "stream",
     "text": [
      "Model: \"sequential_1\"\n",
      "_________________________________________________________________\n",
      " Layer (type)                Output Shape              Param #   \n",
      "=================================================================\n",
      " lstm_1 (LSTM)               (None, 16)                1408      \n",
      "                                                                 \n",
      " dense_1 (Dense)             (None, 1)                 17        \n",
      "                                                                 \n",
      "=================================================================\n",
      "Total params: 1,425\n",
      "Trainable params: 1,425\n",
      "Non-trainable params: 0\n",
      "_________________________________________________________________\n"
     ]
    }
   ],
   "source": [
    "model.summary()"
   ]
  },
  {
   "cell_type": "code",
   "execution_count": 30,
   "id": "13266599-c65b-487b-af92-00e0ab3686ee",
   "metadata": {},
   "outputs": [
    {
     "name": "stdout",
     "output_type": "stream",
     "text": [
      "322/322 [==============================] - 13s 39ms/step\n",
      "[[31409.783]\n",
      " [33163.03 ]\n",
      " [32092.438]\n",
      " ...\n",
      " [33389.2  ]\n",
      " [29278.242]\n",
      " [33474.016]]\n",
      "[[30320.2663439 ]\n",
      " [33709.57174108]\n",
      " [28880.76923089]\n",
      " ...\n",
      " [30922.3864562 ]\n",
      " [29174.44021971]\n",
      " [32654.33879792]]\n",
      "Mean Squared Error: 2572127.83\n"
     ]
    }
   ],
   "source": [
    "# Make predictions using the test dataset\n",
    "y_pred_scaled = model.predict(X_test)\n",
    "\n",
    "# Inverse transform the scaled predictions to the original scale\n",
    "y_pred = scaler_y.inverse_transform(y_pred_scaled)\n",
    "\n",
    "# Inverse transform the scaled actual values (if needed)\n",
    "y_actual = scaler_y.inverse_transform(y_test.reshape(-1, 1))\n",
    "\n",
    "\n",
    "y_actual_plt = y_actual[:len(y_actual)//10]\n",
    "y_pred_plt = y_pred[:len(y_actual)//10]\n",
    "fig,ax = plt.subplots()\n",
    "ax.scatter(range(len(y_actual_plt)), y_actual_plt)\n",
    "ax.scatter(range(len(y_pred_plt)), y_pred_plt)\n",
    "plt.show()\n",
    "\n",
    "# Calculate performance metrics (e.g., Mean Squared Error)\n",
    "from sklearn.metrics import mean_squared_error\n",
    "mse = mean_squared_error(y_actual, y_pred)\n",
    "print(f\"Mean Squared Error: {mse:.2f}\")\n"
   ]
  },
  {
   "cell_type": "code",
   "execution_count": null,
   "id": "073c9c9e-3216-435f-8c5d-020b932a6567",
   "metadata": {},
   "outputs": [],
   "source": []
  }
 ],
 "metadata": {
  "kernelspec": {
   "display_name": "Python 3 (ipykernel)",
   "language": "python",
   "name": "python3"
  },
  "language_info": {
   "codemirror_mode": {
    "name": "ipython",
    "version": 3
   },
   "file_extension": ".py",
   "mimetype": "text/x-python",
   "name": "python",
   "nbconvert_exporter": "python",
   "pygments_lexer": "ipython3",
   "version": "3.10.6"
  }
 },
 "nbformat": 4,
 "nbformat_minor": 5
}
